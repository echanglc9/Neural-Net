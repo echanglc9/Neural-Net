{
 "cells": [
  {
   "cell_type": "markdown",
   "metadata": {},
   "source": [
    "# Maching Learning - Logistic Regression\n",
    "\n",
    "CS440/640\n",
    "\n",
    "\n",
    "<br>      This code is about how to implement Logistic Regression                                                                      \n",
    "\n"
   ]
  },
  {
   "cell_type": "code",
   "execution_count": 1,
   "metadata": {
    "collapsed": true
   },
   "outputs": [],
   "source": [
    "# Import Python libraries\n",
    "import numpy as np    # numpy is the fundamental package for scientific computing with Python, such linear algebra, array...\n",
    "import matplotlib.pyplot as plt      # matplotlib is a Python 2D plotting library which produces publication quality figures."
   ]
  },
  {
   "cell_type": "markdown",
   "metadata": {},
   "source": [
    "## Logistic Regression Model \n"
   ]
  },
  {
   "cell_type": "code",
   "execution_count": 2,
   "metadata": {
    "collapsed": true
   },
   "outputs": [],
   "source": [
    "class LogisticRegression:\n",
    "    \"\"\"\n",
    "    This lab implements a Logistic Regression Classifier.\n",
    "    \"\"\"\n",
    "    \n",
    "    def __init__(self, input_dim, output_dim, hidden_dim):\n",
    "        \"\"\"\n",
    "        Initializes the parameters of the logistic regression classifer to \n",
    "        random values.\n",
    "        \n",
    "        args:\n",
    "            input_dim: Number of dimensions of the input data\n",
    "            output_dim: Number of classes\n",
    "            hiden_dim: hidden layer\n",
    "        \"\"\"\n",
    "        \n",
    "        self.theta = np.random.randn(input_dim, hidden_dim) / np.sqrt(input_dim)\n",
    "        self.theta2 = np.random.randn(hidden_dim, output_dim) / np.sqrt(hidden_dim)\n",
    "        self.bias = np.zeros((1, hidden_dim))\n",
    "        self.bias2 = np.zeros((1, output_dim))\n",
    "        \n",
    "    #--------------------------------------------------------------------------\n",
    "    \n",
    "    def compute_cost(self,X, y):\n",
    "        \"\"\"\n",
    "        Computes the total cost on the dataset.\n",
    "        \n",
    "        args:\n",
    "            X: Data array\n",
    "            y: Labels corresponding to input data\n",
    "        \n",
    "        returns:\n",
    "            cost: average cost per data sample\n",
    "        \"\"\"\n",
    "        num_examples = np.shape(X)[0]\n",
    "        z = np.dot(X,self.theta) + self.bias\n",
    "        exp_z = np.exp(z)\n",
    "        softmax_scores = exp_z / np.sum(exp_z, axis=1, keepdims=True)\n",
    "        \n",
    "        one_hot_y = np.zeros((num_examples,np.max(y)+1))\n",
    "        logloss = np.zeros((num_examples,))        \n",
    "        for i in range(np.shape(X)[0]):\n",
    "            one_hot_y[i,y[i]] = 1\n",
    "            logloss[i] = -np.sum(np.log(softmax_scores[i,:]) * one_hot_y[i,:])\n",
    "        data_loss = np.sum(logloss)\n",
    "        return 1./num_examples * data_loss\n",
    "\n",
    "    \n",
    "    #--------------------------------------------------------------------------\n",
    " \n",
    "    def predict(self,X):\n",
    "        \"\"\"\n",
    "        Makes a prediction based on current model parameters.\n",
    "        \n",
    "        args:\n",
    "            X: Data array\n",
    "            \n",
    "        returns:\n",
    "            predictions: array of predicted labels\n",
    "        \"\"\"\n",
    "        z = np.dot(X,self.theta) + self.bias\n",
    "        #activation function - hyperbolic tangent\n",
    "        a = np.tanh(z)\n",
    "        z2 = np.dot(a,self.theta2) + self.bias2\n",
    "        exp_z = np.exp(z2)\n",
    "        #softmax_scores = exp_z / (exp_z + 1)\n",
    "        softmax_scores = exp_z / np.sum(exp_z, axis=1, keepdims=True)\n",
    "\n",
    "        predictions = np.argmax(softmax_scores, axis = 1)\n",
    "        return predictions\n",
    "        \n",
    "    #--------------------------------------------------------------------------\n",
    "    # implement logistic regression using gradient descent \n",
    "    #--------------------------------------------------------------------------\n",
    "    def fit(self,X,y,num_epochs,alpha=0.01):\n",
    "    \n",
    "        #Learns model parameters to fit the data.\n",
    "  \n",
    "\n",
    "        for epoch in range(0, num_epochs):\n",
    "\n",
    "            # Forward propagation\n",
    "            z = np.dot(X,self.theta) + self.bias\n",
    "            #activation function - hyperbolic tangent\n",
    "            a = np.tanh(z)\n",
    "            z2 = np.dot(a,self.theta2) + self.bias2\n",
    "            exp_z = np.exp(z2)\n",
    "            softmax_scores = exp_z / np.sum(exp_z, axis=1, keepdims=True)\n",
    "            #softmax_scores = exp_z / (exp_z + 1)\n",
    "        \n",
    "            # Backpropagation\n",
    "            beta = np.zeros_like(softmax_scores)\n",
    "            #print (softmax_scores)\n",
    "            one_hot_y = np.zeros_like(softmax_scores)\n",
    "            for i in range(X.shape[0]):\n",
    "                one_hot_y[i,y[i]] = 1\n",
    "            beta = softmax_scores - one_hot_y\n",
    "            #print(beta)\n",
    "            # Compute gradients of model parameters\n",
    "            dtheta2 = np.dot(a.T, beta)\n",
    "            dbias2 = np.sum(beta, axis=0)\n",
    "            beta2= np.dot(beta, self.theta2.T) * (1-np.power(a,2))\n",
    "            dtheta = np.dot(X.T,beta2)\n",
    "            dbias = np.sum(beta2, axis=0)\n",
    "    \n",
    "            # Gradient descent parameter update\n",
    "            self.theta -= alpha * dtheta\n",
    "            self.bias -= alpha * dbias  \n",
    "            self.theta2 -= alpha * dtheta2\n",
    "            self.bias2 -= alpha * dbias2\n",
    "        return 0"
   ]
  },
  {
   "cell_type": "code",
   "execution_count": 3,
   "metadata": {
    "collapsed": true
   },
   "outputs": [],
   "source": [
    "def plot_decision_boundary(model, X, y):\n",
    "    \"\"\"\n",
    "    Function to print the decision boundary given by model.\n",
    "    \n",
    "    args:\n",
    "        model: model, whose parameters are used to plot the decision boundary.\n",
    "        X: input data\n",
    "        y: input labels\n",
    "    \"\"\"\n",
    "    \n",
    "    x1_array, x2_array = np.meshgrid(np.arange(-10, 10, 0.01), np.arange(-10, 10, 0.01))\n",
    "    grid_coordinates = np.c_[x1_array.ravel(), x2_array.ravel()]\n",
    "    Z = model.predict(grid_coordinates)\n",
    "    Z = Z.reshape(x1_array.shape)\n",
    "    plt.contourf(x1_array, x2_array, Z, cmap=plt.cm.bwr)\n",
    "    plt.scatter(X[:, 0], X[:, 1], c=y, cmap=plt.cm.bwr)\n",
    "    plt.show()"
   ]
  },
  {
   "cell_type": "markdown",
   "metadata": {},
   "source": [
    "## Data Analysis Basics"
   ]
  },
  {
   "cell_type": "code",
   "execution_count": 4,
   "metadata": {
    "collapsed": true
   },
   "outputs": [],
   "source": [
    "#1. Load data\n",
    "X = np.genfromtxt('DATA/data_LinearX.csv', delimiter=',') #https://docs.scipy.org/doc/numpy/reference/generated/numpy.genfromtxt.html\n",
    "y = np.genfromtxt('DATA/data_LinearY.csv', delimiter=',').astype(np.int64)\n",
    "\n",
    "def fold_i_of_k(dataset, i, k):\n",
    "    n = len(dataset)\n",
    "    return dataset[n*(i-1)//k:n*i//k]\n",
    "\n",
    "    "
   ]
  },
  {
   "cell_type": "code",
   "execution_count": 5,
   "metadata": {},
   "outputs": [
    {
     "data": {
      "image/png": "[encoded data removed]",
      "text/plain": [
       "<matplotlib.figure.Figure at 0x24d6a0b7d30>"
      ]
     },
     "metadata": {},
     "output_type": "display_data"
    }
   ],
   "source": [
    "#2. plot data\n",
    "plt.scatter(X[:,0], X[:,1], c=y, cmap=plt.cm.bwr) #http://matplotlib.org/api/pyplot_api.html#matplotlib.pyplot.scatter\n",
    "plt.show()"
   ]
  },
  {
   "cell_type": "code",
   "execution_count": 6,
   "metadata": {
    "collapsed": true
   },
   "outputs": [],
   "source": [
    "#3. Initialize model\n",
    "input_dim = np.shape(X)[1]\n",
    "output_dim = np.max(y) + 1\n",
    "hidden_dim = 10\n",
    "logreg = LogisticRegression(input_dim, output_dim,hidden_dim)\n",
    "logreg2 = LogisticRegression(input_dim, output_dim, hidden_dim)\n",
    "logreg3 = LogisticRegression(input_dim, output_dim, hidden_dim)\n",
    "logreg4 = LogisticRegression(input_dim, output_dim, hidden_dim)"
   ]
  },
  {
   "cell_type": "code",
   "execution_count": 7,
   "metadata": {},
   "outputs": [
    {
     "data": {
      "image/png": "[encoded data removed]",
      "text/plain": [
       "<matplotlib.figure.Figure at 0x24d6a525208>"
      ]
     },
     "metadata": {},
     "output_type": "display_data"
    }
   ],
   "source": [
    "#4. Plot decision boundary\n",
    "plot_decision_boundary(logreg, X, y)"
   ]
  },
  {
   "cell_type": "markdown",
   "metadata": {},
   "source": [
    "## Train Classification Model\n",
    "**Classification** tries to predict, which of a small set of classes, a sample in a population belongs to. Mathematically, the aim is to find $y$, a **label** based on knowing a feature vector $X$."
   ]
  },
  {
   "cell_type": "code",
   "execution_count": 8,
   "metadata": {},
   "outputs": [
    {
     "name": "stdout",
     "output_type": "stream",
     "text": [
      "ACCURACY:  0.985\n",
      "CONFUSION MATRIX: \n",
      " [[ 198.    1.]\n",
      " [   5.  196.]]\n",
      "ACCURACY:  0.495\n",
      "CONFUSION MATRIX: \n",
      " [[ 101.  100.]\n",
      " [ 102.   97.]]\n",
      "ACCURACY:  0.485\n",
      "CONFUSION MATRIX: \n",
      " [[  99.  102.]\n",
      " [ 104.   95.]]\n",
      "ACCURACY:  0.5225\n",
      "CONFUSION MATRIX: \n",
      " [[ 101.   89.]\n",
      " [ 102.  108.]]\n",
      "ACCURACY:  0.4825\n",
      "CONFUSION MATRIX: \n",
      " [[  98.  102.]\n",
      " [ 105.   95.]]\n",
      "0.594\n"
     ]
    }
   ],
   "source": [
    "#5. Train the model\n",
    "#5-fold round robin cross validation\n",
    "total = 0\n",
    "for i in range(1,6):\n",
    "    xtest = fold_i_of_k(X,i,5)\n",
    "    ytest = fold_i_of_k(y,i,5)\n",
    "    listz=[]\n",
    "    for z in [x for x in range(1,6) if x != i]:\n",
    "        listz.append(z)\n",
    "    \n",
    "    xfold= np.append(fold_i_of_k(X,listz[0],5) ,fold_i_of_k(X, listz[1], 5),axis=0)\n",
    "    x2fold= np.append(fold_i_of_k(X,listz[2],5), fold_i_of_k(X,listz[3],5), axis=0)\n",
    "    yfold= np.append(fold_i_of_k(y,listz[0],5) ,fold_i_of_k(y, listz[1], 5),axis=0)\n",
    "    y2fold= np.append(fold_i_of_k(y,listz[2],5), fold_i_of_k(y,listz[3],5), axis=0)\n",
    "    x3fold = np.append(xfold,x2fold,axis=0)\n",
    "    y3fold = np.append(yfold,y2fold,axis=0)\n",
    "   \n",
    "    #evaluating\n",
    "    #accuracy weird\n",
    "    acc = 0\n",
    "    y_pred = logreg.predict(xtest)\n",
    "    con_mat = np.zeros((output_dim, output_dim))\n",
    "    for i in range(len(y_pred)):\n",
    "        con_mat[y_pred[i], y[i]] += 1\n",
    "        if y[i] == y_pred[i]:\n",
    "            acc += 1\n",
    "    acc = acc/len(y_pred)\n",
    "    print ('ACCURACY: ', acc)\n",
    "    print ('CONFUSION MATRIX: \\n', con_mat)\n",
    "    total += acc\n",
    "\n",
    "total= total/5\n",
    "print(total)\n",
    "#plot the average\n",
    "#logreg.fit(X,y,2000,alpha=0.001)\n",
    "#plot_decision_boundary(logreg, X, y)"
   ]
  },
  {
   "cell_type": "code",
   "execution_count": 9,
   "metadata": {},
   "outputs": [
    {
     "data": {
      "image/png": "[encoded data removed]",
      "text/plain": [
       "<matplotlib.figure.Figure at 0x24d00045550>"
      ]
     },
     "metadata": {},
     "output_type": "display_data"
    }
   ],
   "source": [
    "#6. Plot decision boundary after trainning\n",
    "#plot_decision_boundary(logreg, X, y)\n",
    "logreg.fit(x3fold,y3fold,2000,alpha=0.001)\n",
    "plot_decision_boundary(logreg, x3fold, y3fold)\n",
    "\n",
    "#logreg2.fit(x3fold,y3fold,2000,alpha=0.01)\n",
    "#plot_decision_boundary(logreg2, x3fold, y3fold)\n",
    "#logreg3.fit(x3fold,y3fold,2000,alpha=0.05)\n",
    "#plot_decision_boundary(logreg3, x3fold, y3fold)\n",
    "#logreg4.fit(x3fold,y3fold,2000,alpha=0.005)\n",
    "#plot_decision_boundary(logreg4, x3fold, y3fold)\n",
    "\n"
   ]
  },
  {
   "cell_type": "markdown",
   "metadata": {},
   "source": [
    "## Model Evaluation"
   ]
  },
  {
   "cell_type": "code",
   "execution_count": 10,
   "metadata": {},
   "outputs": [
    {
     "name": "stdout",
     "output_type": "stream",
     "text": [
      "ACCURACY:  0.999\n",
      "CONFUSION MATRIX: \n",
      " [[ 999.    1.]\n",
      " [   1.  999.]]\n"
     ]
    }
   ],
   "source": [
    "#7. ompute accuracy and confusion matrix\n",
    "acc = 0\n",
    "y_pred = logreg.predict(X)\n",
    "con_mat = np.zeros((output_dim, output_dim))\n",
    "for i in range(len(y_pred)):\n",
    "    con_mat[y_pred[i], y[i]] += 1\n",
    "    if y[i] == y_pred[i]:\n",
    "        acc += 1\n",
    "acc = acc/len(y_pred)\n",
    "print ('ACCURACY: ', acc)\n",
    "print ('CONFUSION MATRIX: \\n', con_mat)"
   ]
  },
  {
   "cell_type": "code",
   "execution_count": 11,
   "metadata": {},
   "outputs": [
    {
     "name": "stdout",
     "output_type": "stream",
     "text": [
      "ACCURACY:  0.4925\n",
      "CONFUSION MATRIX: \n",
      " [[ 101.  101.]\n",
      " [ 102.   96.]]\n"
     ]
    }
   ],
   "source": [
    "#Accuracy and confusion Matrix for 5 cross validation\n",
    "acc = 0\n",
    "y_pred = logreg.predict(xtest)\n",
    "con_mat = np.zeros((output_dim, output_dim))\n",
    "for i in range(len(y_pred)):\n",
    "    con_mat[y_pred[i], y3fold[i]] += 1\n",
    "    if y3fold[i] == y_pred[i]:\n",
    "        acc += 1\n",
    "acc = acc/len(y_pred)\n",
    "\n",
    "\n",
    "print ('ACCURACY: ', acc)\n",
    "print ('CONFUSION MATRIX: \\n', con_mat)"
   ]
  },
  {
   "cell_type": "code",
   "execution_count": null,
   "metadata": {
    "collapsed": true
   },
   "outputs": [],
   "source": []
  },
  {
   "cell_type": "code",
   "execution_count": null,
   "metadata": {
    "collapsed": true
   },
   "outputs": [],
   "source": []
  },
  {
   "cell_type": "code",
   "execution_count": null,
   "metadata": {
    "collapsed": true
   },
   "outputs": [],
   "source": []
  },
  {
   "cell_type": "code",
   "execution_count": null,
   "metadata": {
    "collapsed": true
   },
   "outputs": [],
   "source": []
  },
  {
   "cell_type": "code",
   "execution_count": null,
   "metadata": {
    "collapsed": true
   },
   "outputs": [],
   "source": []
  }
 ],
 "metadata": {
  "kernelspec": {
   "display_name": "Python 3",
   "language": "python",
   "name": "python3"
  },
  "language_info": {
   "codemirror_mode": {
    "name": "ipython",
    "version": 3
   },
   "file_extension": ".py",
   "mimetype": "text/x-python",
   "name": "python",
   "nbconvert_exporter": "python",
   "pygments_lexer": "ipython3",
   "version": "3.6.1"
  }
 },
 "nbformat": 4,
 "nbformat_minor": 2
}
